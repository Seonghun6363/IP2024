{
 "cells": [
  {
   "cell_type": "code",
   "execution_count": 2,
   "metadata": {},
   "outputs": [],
   "source": [
    "import numpy as np\n",
    "import cv2"
   ]
  },
  {
   "cell_type": "code",
   "execution_count": 4,
   "metadata": {},
   "outputs": [],
   "source": [
    "img = cv2.imread('mountain.jpg',1)"
   ]
  },
  {
   "cell_type": "code",
   "execution_count": 12,
   "metadata": {},
   "outputs": [
    {
     "data": {
      "text/plain": [
       "True"
      ]
     },
     "execution_count": 12,
     "metadata": {},
     "output_type": "execute_result"
    }
 ],
 "출처": [
 "cv2.이름은 Windows('이미지'), cv2.윈도우_정상)\n",
 "cv2.imshow('image',img)\n",
 "cv2.waitKey(0)\n",
 "cv2.destroyAllWindows()\n",
 "cv2.imwrite('messigray.png',img)"
 ]
 },
 {
 "cell_type": "코드",
 "execution_카운트": 6,
 "metadata": {},
 "outputs": [
 {
 "이름": "구금 오류",
 "평가": "진입된 블록(1406898453.py , 5행)을 예상했습니다.",
 "output_type": "오류",
 "trace백": [
 "\u001b[1;36m Cell \u001b[1;32mIn[6], line 5\u001b[1;36m\u001b[0m\n\u001b[1;33m cv2.destroyAllWindows()\u001b[0m\n\u001b[1;37m ^\u001b[0m\n\u001b[1;31mIndentationError\u001b[0m\u001b[1;31m:\u001b[0m expected an indented block\n"
 ]
 }
 ],
 "출처": [
 "img = cv2.imread('messi5.jpg',0)\n",
 "cv2.imshow('image',img)\n",
 "k = cv2.waitKey(0)\n",
 "k == 27인 경우: # ESC 키가 종료될 때까지 기다립니다\n.",
 "cv2.destroyAllWindows()\n",
 "elifk == Ord ('')): # 's' 키가 저장되고 종료될 때까지 기다립니다\n.",
 "cv2.imwrite('messigray.png',img)\n",
 "cv2.destroyAllWindows()"
 ]
 },
 {
 "cell_type": "코드",
 "execution_카운트": 7,
 "metadata": {},
 "outputs": [],
 "출처": [
 "매트플롯립에서 파이플롯을 plt로 가져옵니다."
 ]
 },
 {
 "cell_type": "코드",
 "execution_카운트": 9,
 "metadata": {},
 "outputs": [
 {
 "데이터": {
 "image/png": "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




 "텍스트/plain": [
       "<Figure size 640x480 with 1 Axes>"
      ]
     },
     "metadata": {},
     "output_type": "display_data"
    }
   ],
   "source": [
    "img = cv2.imread('mountain.jpg',1)\n",
    "plt.imshow(img, cmap = 'gray', interpolation = 'bicubic')\n",
    "plt.xticks([]), plt.yticks([]) # to hide tick values on X and Y axis\n",
    "plt.show()"
   ]
  }
 ],
 "metadata": {
  "kernelspec": {
   "display_name": "IP2024",
   "language": "python",
   "name": "python3"
  },
  "language_info": {
   "codemirror_mode": {
    "name": "ipython",
    "version": 3
   },
   "file_extension": ".py",
   "mimetype": "text/x-python",
   "name": "python",
   "nbconvert_exporter": "python",
   "pygments_lexer": "ipython3",
   "version": "3.8.19"
  }
 },
 "nbformat": 4,
 "nbformat_minor": 2
}
